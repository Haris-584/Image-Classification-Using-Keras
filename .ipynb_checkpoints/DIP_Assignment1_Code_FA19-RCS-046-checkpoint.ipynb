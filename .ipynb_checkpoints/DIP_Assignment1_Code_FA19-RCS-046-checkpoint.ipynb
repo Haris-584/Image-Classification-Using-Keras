{
 "cells": [
  {
   "cell_type": "markdown",
   "metadata": {
    "id": "RmAVj5lcnTDR"
   },
   "source": [
    "**Image Classification using keras**"
   ]
  },
  {
   "cell_type": "markdown",
   "metadata": {
    "id": "sRf_epkHnbI3"
   },
   "source": [
    "Image classification is a method to classify the images into their respective category classes using some method like :\n",
    "\n",
    "1.   Training a small network from scratch\n",
    "2.   Fine tuning the top layers of the model using VGG16\n",
    "\n"
   ]
  },
  {
   "cell_type": "markdown",
   "metadata": {
    "id": "GC5OA4ZMnuWA"
   },
   "source": [
    "**Train Data :** Train data contains the 32 images of each class non diabetic , long duration and onset i.e. total their are 96 images in the training dataset\n",
    "\n",
    "\n",
    "**Test Data :** Test data contains 8 images of each class non diabetic , long duration and onset i.e. total their are 24 images in the training dataset\n",
    "\n",
    "Data on gdrive , [click here.](https://drive.google.com/drive/folders/1kvj53AXpLJtClwnymkM10jGml-qvwaxF?usp=sharing)"
   ]
  },
  {
   "cell_type": "code",
   "execution_count": null,
   "metadata": {
    "id": "t1qW_P4hCrv7"
   },
   "outputs": [],
   "source": [
    "from google.colab import drive\n",
    "drive.mount('/content/gdrive')"
   ]
  },
  {
   "cell_type": "markdown",
   "metadata": {
    "id": "TT2AmIFiq65Y"
   },
   "source": [
    "**Training a small network from scratch**"
   ]
  },
  {
   "cell_type": "code",
   "execution_count": 1,
   "metadata": {
    "id": "1ELU2MJwEXM7"
   },
   "outputs": [],
   "source": [
    "# Importing all necessary libraries \n",
    "from keras.preprocessing.image import ImageDataGenerator \n",
    "from keras.models import Sequential \n",
    "from keras.layers import Conv2D, MaxPooling2D \n",
    "from keras.layers import Activation, Dropout, Flatten, Dense \n",
    "from keras import backend as K \n",
    "  \n",
    "img_width, img_height = 224, 224"
   ]
  },
  {
   "cell_type": "code",
   "execution_count": 11,
   "metadata": {
    "id": "Z9fO-oMQEan7"
   },
   "outputs": [],
   "source": [
    "train_data_dir = '/content/drive/My Drive/DIP/data/Train'\n",
    "validation_data_dir = '/content/drive/My Drive/DIP/data/Test'\n",
    "nb_train_samples =96 \n",
    "nb_validation_samples = 24\n",
    "epochs = 20\n",
    "batch_size = 10"
   ]
  },
  {
   "cell_type": "code",
   "execution_count": 12,
   "metadata": {
    "id": "m9hdaXL8EayH"
   },
   "outputs": [],
   "source": [
    "if K.image_data_format() == 'channels_first': \n",
    "    input_shape = (3, img_width, img_height) \n",
    "else: \n",
    "    input_shape = (img_width, img_height, 3) "
   ]
  },
  {
   "cell_type": "code",
   "execution_count": 13,
   "metadata": {
    "id": "vkHjy1VHEa4F"
   },
   "outputs": [],
   "source": [
    "model = Sequential()\n",
    "model.add(Conv2D(32, (3, 3), input_shape=input_shape))\n",
    "model.add(Activation('relu'))\n",
    "model.add(MaxPooling2D(pool_size=(2, 2)))\n",
    "\n",
    "model.add(Conv2D(32, (3, 3)))\n",
    "model.add(Activation('relu'))\n",
    "model.add(MaxPooling2D(pool_size=(2, 2)))\n",
    "\n",
    "model.add(Conv2D(64, (3, 3)))\n",
    "model.add(Activation('relu'))\n",
    "model.add(MaxPooling2D(pool_size=(2, 2)))\n",
    "\n",
    "model.add(Flatten())\n",
    "model.add(Dense(64))\n",
    "model.add(Activation('relu'))\n",
    "model.add(Dense(64))\n",
    "model.add(Activation('relu'))\n",
    "model.add(Dropout(0.3))\n",
    "model.add(Dense(1))\n",
    "model.add(Activation('sigmoid'))\n"
   ]
  },
  {
   "cell_type": "code",
   "execution_count": 14,
   "metadata": {
    "id": "SokaOJbfEa9Y"
   },
   "outputs": [],
   "source": [
    "model.compile(loss='binary_crossentropy', \n",
    "              optimizer='rmsprop', \n",
    "              metrics=['accuracy']) "
   ]
  },
  {
   "cell_type": "code",
   "execution_count": 16,
   "metadata": {
    "id": "bFFY8ridEa3I"
   },
   "outputs": [],
   "source": [
    "train_datagen = ImageDataGenerator(\n",
    "    rescale=1. / 255,\n",
    "    shear_range=0.1,\n",
    "    zoom_range=0.1,\n",
    "    horizontal_flip=True)\n",
    "\n",
    "test_datagen = ImageDataGenerator(rescale=1. / 255)\n",
    "  \n"
   ]
  },
  {
   "cell_type": "code",
   "execution_count": 17,
   "metadata": {
    "colab": {
     "base_uri": "https://localhost:8080/",
     "height": 105
    },
    "id": "0yR-TLaBE4ZA",
    "outputId": "55bf3ee1-bc71-40a2-957c-114ec49fa709"
   },
   "outputs": [
    {
     "name": "stdout",
     "output_type": "stream",
     "text": [
      "Found 96 images belonging to 3 classes.\n",
      "Found 24 images belonging to 3 classes.\n"
     ]
    },
    {
     "name": "stderr",
     "output_type": "stream",
     "text": [
      "/usr/local/lib/python3.6/dist-packages/keras_preprocessing/image/utils.py:179: UserWarning: Using \".tiff\" files with multiple bands will cause distortion. Please verify your output.\n",
      "  warnings.warn('Using \".tiff\" files with multiple bands '\n"
     ]
    }
   ],
   "source": [
    "train_generator = train_datagen.flow_from_directory(\n",
    "    train_data_dir,\n",
    "    target_size=(img_width, img_height),\n",
    "    batch_size=batch_size,\n",
    "    class_mode='categorical')\n",
    "\n",
    "validation_generator = test_datagen.flow_from_directory(\n",
    "    validation_data_dir,\n",
    "    target_size=(img_width, img_height),\n",
    "    batch_size=batch_size,\n",
    "    class_mode='categorical')\n"
   ]
  },
  {
   "cell_type": "code",
   "execution_count": 18,
   "metadata": {
    "colab": {
     "base_uri": "https://localhost:8080/",
     "height": 1000
    },
    "id": "QCUxj9VFFKWX",
    "outputId": "c1332cdf-9793-4084-cf4f-a018944c8c60"
   },
   "outputs": [
    {
     "name": "stdout",
     "output_type": "stream",
     "text": [
      "Epoch 1/50\n",
      "9/9 [==============================] - 129s 14s/step - loss: 0.6976 - accuracy: 0.5969 - val_loss: 0.6375 - val_accuracy: 0.6667\n",
      "Epoch 2/50\n",
      "9/9 [==============================] - 16s 2s/step - loss: 0.6454 - accuracy: 0.6628 - val_loss: 0.6377 - val_accuracy: 0.6667\n",
      "Epoch 3/50\n",
      "9/9 [==============================] - 6s 641ms/step - loss: 0.6432 - accuracy: 0.6667 - val_loss: 0.6435 - val_accuracy: 0.6667\n",
      "Epoch 4/50\n",
      "9/9 [==============================] - 6s 622ms/step - loss: 0.6415 - accuracy: 0.6667 - val_loss: 0.6392 - val_accuracy: 0.6667\n",
      "Epoch 5/50\n",
      "9/9 [==============================] - 5s 605ms/step - loss: 0.6423 - accuracy: 0.6667 - val_loss: 0.6391 - val_accuracy: 0.6667\n",
      "Epoch 6/50\n",
      "9/9 [==============================] - 6s 639ms/step - loss: 0.6403 - accuracy: 0.6667 - val_loss: 0.6368 - val_accuracy: 0.6667\n",
      "Epoch 7/50\n",
      "9/9 [==============================] - 5s 601ms/step - loss: 0.6400 - accuracy: 0.6667 - val_loss: 0.6419 - val_accuracy: 0.6667\n",
      "Epoch 8/50\n",
      "9/9 [==============================] - 6s 620ms/step - loss: 0.6411 - accuracy: 0.6667 - val_loss: 0.6380 - val_accuracy: 0.6667\n",
      "Epoch 9/50\n",
      "9/9 [==============================] - 6s 618ms/step - loss: 0.6398 - accuracy: 0.6667 - val_loss: 0.6368 - val_accuracy: 0.6667\n",
      "Epoch 10/50\n",
      "9/9 [==============================] - 5s 611ms/step - loss: 0.6401 - accuracy: 0.6667 - val_loss: 0.6385 - val_accuracy: 0.6667\n",
      "Epoch 11/50\n",
      "9/9 [==============================] - 6s 632ms/step - loss: 0.6395 - accuracy: 0.6667 - val_loss: 0.6367 - val_accuracy: 0.6667\n",
      "Epoch 12/50\n",
      "9/9 [==============================] - 6s 619ms/step - loss: 0.6392 - accuracy: 0.6667 - val_loss: 0.6375 - val_accuracy: 0.6667\n",
      "Epoch 13/50\n",
      "9/9 [==============================] - 5s 611ms/step - loss: 0.6384 - accuracy: 0.6667 - val_loss: 0.6394 - val_accuracy: 0.6667\n",
      "Epoch 14/50\n",
      "9/9 [==============================] - 6s 625ms/step - loss: 0.6390 - accuracy: 0.6667 - val_loss: 0.6389 - val_accuracy: 0.6667\n",
      "Epoch 15/50\n",
      "9/9 [==============================] - 6s 620ms/step - loss: 0.6390 - accuracy: 0.6667 - val_loss: 0.6380 - val_accuracy: 0.6667\n",
      "Epoch 16/50\n",
      "9/9 [==============================] - 6s 635ms/step - loss: 0.6392 - accuracy: 0.6667 - val_loss: 0.6366 - val_accuracy: 0.6667\n",
      "Epoch 17/50\n",
      "9/9 [==============================] - 5s 584ms/step - loss: 0.6388 - accuracy: 0.6667 - val_loss: 0.6378 - val_accuracy: 0.6667\n",
      "Epoch 18/50\n",
      "9/9 [==============================] - 5s 597ms/step - loss: 0.6381 - accuracy: 0.6667 - val_loss: 0.6365 - val_accuracy: 0.6667\n",
      "Epoch 19/50\n",
      "9/9 [==============================] - 5s 587ms/step - loss: 0.6383 - accuracy: 0.6667 - val_loss: 0.6366 - val_accuracy: 0.6667\n",
      "Epoch 20/50\n",
      "9/9 [==============================] - 5s 594ms/step - loss: 0.6383 - accuracy: 0.6667 - val_loss: 0.6371 - val_accuracy: 0.6667\n",
      "Epoch 21/50\n",
      "9/9 [==============================] - 6s 612ms/step - loss: 0.6377 - accuracy: 0.6667 - val_loss: 0.6371 - val_accuracy: 0.6667\n",
      "Epoch 22/50\n",
      "9/9 [==============================] - 6s 613ms/step - loss: 0.6387 - accuracy: 0.6667 - val_loss: 0.6370 - val_accuracy: 0.6667\n",
      "Epoch 23/50\n",
      "9/9 [==============================] - 6s 621ms/step - loss: 0.6386 - accuracy: 0.6667 - val_loss: 0.6365 - val_accuracy: 0.6667\n",
      "Epoch 24/50\n",
      "9/9 [==============================] - 6s 616ms/step - loss: 0.6380 - accuracy: 0.6667 - val_loss: 0.6377 - val_accuracy: 0.6667\n",
      "Epoch 25/50\n",
      "9/9 [==============================] - 6s 618ms/step - loss: 0.6380 - accuracy: 0.6667 - val_loss: 0.6367 - val_accuracy: 0.6667\n",
      "Epoch 26/50\n",
      "9/9 [==============================] - 5s 611ms/step - loss: 0.6382 - accuracy: 0.6667 - val_loss: 0.6396 - val_accuracy: 0.6667\n",
      "Epoch 27/50\n",
      "9/9 [==============================] - 6s 631ms/step - loss: 0.6381 - accuracy: 0.6667 - val_loss: 0.6366 - val_accuracy: 0.6667\n",
      "Epoch 28/50\n",
      "9/9 [==============================] - 6s 619ms/step - loss: 0.6383 - accuracy: 0.6667 - val_loss: 0.6371 - val_accuracy: 0.6667\n",
      "Epoch 29/50\n",
      "9/9 [==============================] - 6s 644ms/step - loss: 0.6375 - accuracy: 0.6667 - val_loss: 0.6366 - val_accuracy: 0.6667\n",
      "Epoch 30/50\n",
      "9/9 [==============================] - 6s 622ms/step - loss: 0.6374 - accuracy: 0.6667 - val_loss: 0.6375 - val_accuracy: 0.6667\n",
      "Epoch 31/50\n",
      "9/9 [==============================] - 6s 611ms/step - loss: 0.6380 - accuracy: 0.6667 - val_loss: 0.6365 - val_accuracy: 0.6667\n",
      "Epoch 32/50\n",
      "9/9 [==============================] - 6s 637ms/step - loss: 0.6381 - accuracy: 0.6667 - val_loss: 0.6365 - val_accuracy: 0.6667\n",
      "Epoch 33/50\n",
      "9/9 [==============================] - 6s 628ms/step - loss: 0.6376 - accuracy: 0.6667 - val_loss: 0.6366 - val_accuracy: 0.6667\n",
      "Epoch 34/50\n",
      "9/9 [==============================] - 5s 608ms/step - loss: 0.6379 - accuracy: 0.6667 - val_loss: 0.6369 - val_accuracy: 0.6667\n",
      "Epoch 35/50\n",
      "9/9 [==============================] - 6s 632ms/step - loss: 0.6373 - accuracy: 0.6667 - val_loss: 0.6375 - val_accuracy: 0.6667\n",
      "Epoch 36/50\n",
      "9/9 [==============================] - 6s 627ms/step - loss: 0.6380 - accuracy: 0.6667 - val_loss: 0.6368 - val_accuracy: 0.6667\n",
      "Epoch 37/50\n",
      "9/9 [==============================] - 6s 616ms/step - loss: 0.6376 - accuracy: 0.6667 - val_loss: 0.6365 - val_accuracy: 0.6667\n",
      "Epoch 38/50\n",
      "9/9 [==============================] - 6s 622ms/step - loss: 0.6381 - accuracy: 0.6667 - val_loss: 0.6371 - val_accuracy: 0.6667\n",
      "Epoch 39/50\n",
      "9/9 [==============================] - 6s 616ms/step - loss: 0.6377 - accuracy: 0.6667 - val_loss: 0.6365 - val_accuracy: 0.6667\n",
      "Epoch 40/50\n",
      "9/9 [==============================] - 6s 620ms/step - loss: 0.6373 - accuracy: 0.6667 - val_loss: 0.6366 - val_accuracy: 0.6667\n",
      "Epoch 41/50\n",
      "9/9 [==============================] - 6s 639ms/step - loss: 0.6376 - accuracy: 0.6667 - val_loss: 0.6371 - val_accuracy: 0.6667\n",
      "Epoch 42/50\n",
      "9/9 [==============================] - 6s 636ms/step - loss: 0.6376 - accuracy: 0.6667 - val_loss: 0.6366 - val_accuracy: 0.6667\n",
      "Epoch 43/50\n",
      "9/9 [==============================] - 6s 644ms/step - loss: 0.6373 - accuracy: 0.6667 - val_loss: 0.6368 - val_accuracy: 0.6667\n",
      "Epoch 44/50\n",
      "9/9 [==============================] - 6s 621ms/step - loss: 0.6374 - accuracy: 0.6667 - val_loss: 0.6365 - val_accuracy: 0.6667\n",
      "Epoch 45/50\n",
      "9/9 [==============================] - 6s 617ms/step - loss: 0.6378 - accuracy: 0.6667 - val_loss: 0.6365 - val_accuracy: 0.6667\n",
      "Epoch 46/50\n",
      "9/9 [==============================] - 6s 635ms/step - loss: 0.6374 - accuracy: 0.6667 - val_loss: 0.6365 - val_accuracy: 0.6667\n",
      "Epoch 47/50\n",
      "9/9 [==============================] - 6s 619ms/step - loss: 0.6376 - accuracy: 0.6667 - val_loss: 0.6366 - val_accuracy: 0.6667\n",
      "Epoch 48/50\n",
      "9/9 [==============================] - 6s 622ms/step - loss: 0.6375 - accuracy: 0.6667 - val_loss: 0.6368 - val_accuracy: 0.6667\n",
      "Epoch 49/50\n",
      "9/9 [==============================] - 6s 645ms/step - loss: 0.6377 - accuracy: 0.6667 - val_loss: 0.6366 - val_accuracy: 0.6667\n",
      "Epoch 50/50\n",
      "9/9 [==============================] - 6s 630ms/step - loss: 0.6373 - accuracy: 0.6667 - val_loss: 0.6378 - val_accuracy: 0.6667\n"
     ]
    }
   ],
   "source": [
    "history = model.fit_generator(train_generator,\n",
    "                              steps_per_epoch=nb_train_samples//batch_size,\n",
    "                              validation_data=validation_generator,\n",
    "                              validation_steps=nb_validation_samples//batch_size,\n",
    "                              epochs=50,\n",
    "                              verbose=1,\n",
    "                              )\n",
    "model.save(\"/content/drive/My Drive/DIP/Fullmodel.h5\")"
   ]
  },
  {
   "cell_type": "markdown",
   "metadata": {
    "id": "qpGZ_UQ6rNq6"
   },
   "source": [
    "**Fine tuning the top layers of the model using VGG16**"
   ]
  },
  {
   "cell_type": "code",
   "execution_count": 19,
   "metadata": {
    "id": "_ksPgXkGFKVL"
   },
   "outputs": [],
   "source": [
    "from keras.layers import Input, Lambda, Dense, Flatten\n",
    "from keras.models import Model\n",
    "from keras.applications.vgg16 import VGG16\n",
    "from keras.applications.vgg16 import preprocess_input\n",
    "from keras.preprocessing import image\n",
    "from keras.preprocessing.image import ImageDataGenerator\n",
    "from keras.models import Sequential\n",
    "import numpy as np\n",
    "from glob import glob\n",
    "import matplotlib.pyplot as plt"
   ]
  },
  {
   "cell_type": "code",
   "execution_count": 21,
   "metadata": {
    "id": "gjUUD-exvksa"
   },
   "outputs": [],
   "source": [
    "# re-size all the images to this\n",
    "IMAGE_SIZE = [224, 224]\n",
    "\n",
    "train_path = '/content/drive/My Drive/DIP/data/Train'\n",
    "valid_path = '/content/drive/My Drive/DIP/data/Test'"
   ]
  },
  {
   "cell_type": "code",
   "execution_count": 22,
   "metadata": {
    "colab": {
     "base_uri": "https://localhost:8080/",
     "height": 71
    },
    "id": "H0gqQuN1xrOa",
    "outputId": "5a06fd32-b7ae-4ce6-cce8-dc5d40b16278"
   },
   "outputs": [
    {
     "name": "stdout",
     "output_type": "stream",
     "text": [
      "Downloading data from https://storage.googleapis.com/tensorflow/keras-applications/vgg16/vgg16_weights_tf_dim_ordering_tf_kernels_notop.h5\n",
      "58892288/58889256 [==============================] - 1s 0us/step\n"
     ]
    }
   ],
   "source": [
    "# add preprocessing layer to the front of VGG\n",
    "vgg = VGG16(input_shape=IMAGE_SIZE + [3], weights='imagenet', include_top=False)\n",
    "\n",
    "# don't train existing weights\n",
    "for layer in vgg.layers:\n",
    "  layer.trainable = False\n",
    "  "
   ]
  },
  {
   "cell_type": "code",
   "execution_count": 23,
   "metadata": {
    "id": "29EuOu6SxrVB"
   },
   "outputs": [],
   "source": [
    "# useful for getting number of classes\n",
    "folders = glob('/content/drive/My Drive/DIP/data/Train/*')"
   ]
  },
  {
   "cell_type": "code",
   "execution_count": 24,
   "metadata": {
    "id": "aAFG8atSxrT3"
   },
   "outputs": [],
   "source": [
    "# our layers - you can add more if you want\n",
    "x = Flatten()(vgg.output)\n",
    "# x = Dense(1000, activation='relu')(x)\n",
    "prediction = Dense(len(folders), activation='softmax')(x)\n"
   ]
  },
  {
   "cell_type": "code",
   "execution_count": 25,
   "metadata": {
    "id": "F4ljLBOzxrM7"
   },
   "outputs": [],
   "source": [
    "# create a model object\n",
    "model = Model(inputs=vgg.input, outputs=prediction)"
   ]
  },
  {
   "cell_type": "code",
   "execution_count": 26,
   "metadata": {
    "colab": {
     "base_uri": "https://localhost:8080/",
     "height": 867
    },
    "id": "ls5Wsxqkvkza",
    "outputId": "e21f7dca-8dd7-455d-a9e2-fad0813e166a"
   },
   "outputs": [
    {
     "name": "stdout",
     "output_type": "stream",
     "text": [
      "Model: \"functional_1\"\n",
      "_________________________________________________________________\n",
      "Layer (type)                 Output Shape              Param #   \n",
      "=================================================================\n",
      "input_1 (InputLayer)         [(None, 224, 224, 3)]     0         \n",
      "_________________________________________________________________\n",
      "block1_conv1 (Conv2D)        (None, 224, 224, 64)      1792      \n",
      "_________________________________________________________________\n",
      "block1_conv2 (Conv2D)        (None, 224, 224, 64)      36928     \n",
      "_________________________________________________________________\n",
      "block1_pool (MaxPooling2D)   (None, 112, 112, 64)      0         \n",
      "_________________________________________________________________\n",
      "block2_conv1 (Conv2D)        (None, 112, 112, 128)     73856     \n",
      "_________________________________________________________________\n",
      "block2_conv2 (Conv2D)        (None, 112, 112, 128)     147584    \n",
      "_________________________________________________________________\n",
      "block2_pool (MaxPooling2D)   (None, 56, 56, 128)       0         \n",
      "_________________________________________________________________\n",
      "block3_conv1 (Conv2D)        (None, 56, 56, 256)       295168    \n",
      "_________________________________________________________________\n",
      "block3_conv2 (Conv2D)        (None, 56, 56, 256)       590080    \n",
      "_________________________________________________________________\n",
      "block3_conv3 (Conv2D)        (None, 56, 56, 256)       590080    \n",
      "_________________________________________________________________\n",
      "block3_pool (MaxPooling2D)   (None, 28, 28, 256)       0         \n",
      "_________________________________________________________________\n",
      "block4_conv1 (Conv2D)        (None, 28, 28, 512)       1180160   \n",
      "_________________________________________________________________\n",
      "block4_conv2 (Conv2D)        (None, 28, 28, 512)       2359808   \n",
      "_________________________________________________________________\n",
      "block4_conv3 (Conv2D)        (None, 28, 28, 512)       2359808   \n",
      "_________________________________________________________________\n",
      "block4_pool (MaxPooling2D)   (None, 14, 14, 512)       0         \n",
      "_________________________________________________________________\n",
      "block5_conv1 (Conv2D)        (None, 14, 14, 512)       2359808   \n",
      "_________________________________________________________________\n",
      "block5_conv2 (Conv2D)        (None, 14, 14, 512)       2359808   \n",
      "_________________________________________________________________\n",
      "block5_conv3 (Conv2D)        (None, 14, 14, 512)       2359808   \n",
      "_________________________________________________________________\n",
      "block5_pool (MaxPooling2D)   (None, 7, 7, 512)         0         \n",
      "_________________________________________________________________\n",
      "flatten_2 (Flatten)          (None, 25088)             0         \n",
      "_________________________________________________________________\n",
      "dense_6 (Dense)              (None, 3)                 75267     \n",
      "=================================================================\n",
      "Total params: 14,789,955\n",
      "Trainable params: 75,267\n",
      "Non-trainable params: 14,714,688\n",
      "_________________________________________________________________\n"
     ]
    }
   ],
   "source": [
    "# view the structure of the model\n",
    "model.summary()"
   ]
  },
  {
   "cell_type": "code",
   "execution_count": 27,
   "metadata": {
    "id": "2RaqJL4DvlQv"
   },
   "outputs": [],
   "source": [
    "# tell the model what cost and optimization method to use\n",
    "model.compile(\n",
    "  loss='categorical_crossentropy',\n",
    "  optimizer='adam',\n",
    "  metrics=['accuracy']\n",
    ")"
   ]
  },
  {
   "cell_type": "code",
   "execution_count": 28,
   "metadata": {
    "id": "056zYET1vkx0"
   },
   "outputs": [],
   "source": [
    "from keras.preprocessing.image import ImageDataGenerator\n",
    "\n",
    "train_datagen = ImageDataGenerator(rescale = 1./255,\n",
    "                                   shear_range = 0.2,\n",
    "                                   zoom_range = 0.2,\n",
    "                                   horizontal_flip = True)\n",
    "\n",
    "test_datagen = ImageDataGenerator(rescale = 1./255)"
   ]
  },
  {
   "cell_type": "code",
   "execution_count": 29,
   "metadata": {
    "colab": {
     "base_uri": "https://localhost:8080/",
     "height": 88
    },
    "id": "iQxwS3npvkqE",
    "outputId": "47dd3b18-3cbb-43b2-d39a-c317e7f4f9ae"
   },
   "outputs": [
    {
     "name": "stdout",
     "output_type": "stream",
     "text": [
      "Found 96 images belonging to 3 classes.\n"
     ]
    },
    {
     "name": "stderr",
     "output_type": "stream",
     "text": [
      "/usr/local/lib/python3.6/dist-packages/keras_preprocessing/image/utils.py:179: UserWarning: Using \".tiff\" files with multiple bands will cause distortion. Please verify your output.\n",
      "  warnings.warn('Using \".tiff\" files with multiple bands '\n"
     ]
    }
   ],
   "source": [
    "training_set = train_datagen.flow_from_directory('/content/drive/My Drive/DIP/data/Train',\n",
    "                                                 target_size = (224, 224),\n",
    "                                                 batch_size = 32,\n",
    "                                                 class_mode = 'categorical')\n"
   ]
  },
  {
   "cell_type": "code",
   "execution_count": 30,
   "metadata": {
    "colab": {
     "base_uri": "https://localhost:8080/",
     "height": 88
    },
    "id": "c0Fn_rwMx_VN",
    "outputId": "c419acf2-c53e-4330-f05e-5adf33c5a91c"
   },
   "outputs": [
    {
     "name": "stdout",
     "output_type": "stream",
     "text": [
      "Found 24 images belonging to 3 classes.\n"
     ]
    },
    {
     "name": "stderr",
     "output_type": "stream",
     "text": [
      "/usr/local/lib/python3.6/dist-packages/keras_preprocessing/image/utils.py:179: UserWarning: Using \".tiff\" files with multiple bands will cause distortion. Please verify your output.\n",
      "  warnings.warn('Using \".tiff\" files with multiple bands '\n"
     ]
    }
   ],
   "source": [
    "test_set = test_datagen.flow_from_directory('/content/drive/My Drive/DIP/data/Test',\n",
    "                                            target_size = (224, 224),\n",
    "                                            batch_size = 32,\n",
    "                                            class_mode = 'categorical')\n"
   ]
  },
  {
   "cell_type": "code",
   "execution_count": 32,
   "metadata": {
    "colab": {
     "base_uri": "https://localhost:8080/",
     "height": 1000
    },
    "id": "fASMQRY8x_bV",
    "outputId": "b2e564ea-284a-4fef-e480-49fca6ea78c2"
   },
   "outputs": [
    {
     "name": "stdout",
     "output_type": "stream",
     "text": [
      "Epoch 1/50\n",
      "3/3 [==============================] - 6s 2s/step - loss: 0.9103 - accuracy: 0.5729 - val_loss: 1.4125 - val_accuracy: 0.3333\n",
      "Epoch 2/50\n",
      "3/3 [==============================] - 5s 2s/step - loss: 0.8619 - accuracy: 0.6979 - val_loss: 1.4854 - val_accuracy: 0.2083\n",
      "Epoch 3/50\n",
      "3/3 [==============================] - 5s 2s/step - loss: 0.8556 - accuracy: 0.6458 - val_loss: 1.5198 - val_accuracy: 0.2917\n",
      "Epoch 4/50\n",
      "3/3 [==============================] - 5s 2s/step - loss: 0.8379 - accuracy: 0.6667 - val_loss: 1.5753 - val_accuracy: 0.2917\n",
      "Epoch 5/50\n",
      "3/3 [==============================] - 5s 2s/step - loss: 0.8069 - accuracy: 0.6875 - val_loss: 1.5369 - val_accuracy: 0.2500\n",
      "Epoch 6/50\n",
      "3/3 [==============================] - 5s 2s/step - loss: 0.7903 - accuracy: 0.7083 - val_loss: 1.6699 - val_accuracy: 0.2500\n",
      "Epoch 7/50\n",
      "3/3 [==============================] - 5s 2s/step - loss: 0.8201 - accuracy: 0.6771 - val_loss: 1.7738 - val_accuracy: 0.3333\n",
      "Epoch 8/50\n",
      "3/3 [==============================] - 5s 2s/step - loss: 0.7708 - accuracy: 0.7396 - val_loss: 1.6547 - val_accuracy: 0.2917\n",
      "Epoch 9/50\n",
      "3/3 [==============================] - 5s 2s/step - loss: 0.7734 - accuracy: 0.7188 - val_loss: 1.7234 - val_accuracy: 0.3333\n",
      "Epoch 10/50\n",
      "3/3 [==============================] - 5s 2s/step - loss: 0.7928 - accuracy: 0.7292 - val_loss: 1.7646 - val_accuracy: 0.2083\n",
      "Epoch 11/50\n",
      "3/3 [==============================] - 5s 2s/step - loss: 0.7714 - accuracy: 0.6875 - val_loss: 1.6851 - val_accuracy: 0.2083\n",
      "Epoch 12/50\n",
      "3/3 [==============================] - 5s 2s/step - loss: 0.7155 - accuracy: 0.7500 - val_loss: 1.8866 - val_accuracy: 0.2917\n",
      "Epoch 13/50\n",
      "3/3 [==============================] - 5s 2s/step - loss: 0.7479 - accuracy: 0.6667 - val_loss: 1.8170 - val_accuracy: 0.2500\n",
      "Epoch 14/50\n",
      "3/3 [==============================] - 5s 2s/step - loss: 0.7151 - accuracy: 0.8021 - val_loss: 1.7361 - val_accuracy: 0.2083\n",
      "Epoch 15/50\n",
      "3/3 [==============================] - 5s 2s/step - loss: 0.7275 - accuracy: 0.7292 - val_loss: 1.8842 - val_accuracy: 0.3333\n",
      "Epoch 16/50\n",
      "3/3 [==============================] - 5s 2s/step - loss: 0.7060 - accuracy: 0.7292 - val_loss: 1.8563 - val_accuracy: 0.2500\n",
      "Epoch 17/50\n",
      "3/3 [==============================] - 5s 2s/step - loss: 0.7455 - accuracy: 0.7083 - val_loss: 1.7481 - val_accuracy: 0.2500\n",
      "Epoch 18/50\n",
      "3/3 [==============================] - 5s 2s/step - loss: 0.6861 - accuracy: 0.7396 - val_loss: 2.0658 - val_accuracy: 0.3333\n",
      "Epoch 19/50\n",
      "3/3 [==============================] - 5s 2s/step - loss: 0.6633 - accuracy: 0.7500 - val_loss: 1.9237 - val_accuracy: 0.2500\n",
      "Epoch 20/50\n",
      "3/3 [==============================] - 5s 2s/step - loss: 0.6785 - accuracy: 0.7812 - val_loss: 1.8752 - val_accuracy: 0.2500\n",
      "Epoch 21/50\n",
      "3/3 [==============================] - 5s 2s/step - loss: 0.6619 - accuracy: 0.7292 - val_loss: 2.0369 - val_accuracy: 0.2917\n",
      "Epoch 22/50\n",
      "3/3 [==============================] - 5s 2s/step - loss: 0.6749 - accuracy: 0.7708 - val_loss: 2.1696 - val_accuracy: 0.3333\n",
      "Epoch 23/50\n",
      "3/3 [==============================] - 5s 2s/step - loss: 0.6484 - accuracy: 0.7604 - val_loss: 1.9391 - val_accuracy: 0.2500\n",
      "Epoch 24/50\n",
      "3/3 [==============================] - 5s 2s/step - loss: 0.6239 - accuracy: 0.8021 - val_loss: 2.1698 - val_accuracy: 0.3333\n",
      "Epoch 25/50\n",
      "3/3 [==============================] - 5s 2s/step - loss: 0.6417 - accuracy: 0.7292 - val_loss: 2.1682 - val_accuracy: 0.3333\n",
      "Epoch 26/50\n",
      "3/3 [==============================] - 5s 2s/step - loss: 0.6294 - accuracy: 0.8021 - val_loss: 1.9921 - val_accuracy: 0.2083\n",
      "Epoch 27/50\n",
      "3/3 [==============================] - 5s 2s/step - loss: 0.6111 - accuracy: 0.8021 - val_loss: 2.1436 - val_accuracy: 0.2917\n",
      "Epoch 28/50\n",
      "3/3 [==============================] - 5s 2s/step - loss: 0.6696 - accuracy: 0.7500 - val_loss: 2.2406 - val_accuracy: 0.3333\n",
      "Epoch 29/50\n",
      "3/3 [==============================] - 5s 2s/step - loss: 0.6160 - accuracy: 0.7708 - val_loss: 2.0620 - val_accuracy: 0.2083\n",
      "Epoch 30/50\n",
      "3/3 [==============================] - 5s 2s/step - loss: 0.6268 - accuracy: 0.8021 - val_loss: 2.2054 - val_accuracy: 0.2917\n",
      "Epoch 31/50\n",
      "3/3 [==============================] - 4s 1s/step - loss: 0.5876 - accuracy: 0.8125 - val_loss: 2.1575 - val_accuracy: 0.2083\n",
      "Epoch 32/50\n",
      "3/3 [==============================] - 5s 2s/step - loss: 0.6047 - accuracy: 0.7917 - val_loss: 2.3024 - val_accuracy: 0.3333\n",
      "Epoch 33/50\n",
      "3/3 [==============================] - 5s 2s/step - loss: 0.5864 - accuracy: 0.8021 - val_loss: 2.2506 - val_accuracy: 0.2500\n",
      "Epoch 34/50\n",
      "3/3 [==============================] - 4s 1s/step - loss: 0.6127 - accuracy: 0.7812 - val_loss: 2.2208 - val_accuracy: 0.2083\n",
      "Epoch 35/50\n",
      "3/3 [==============================] - 5s 2s/step - loss: 0.6028 - accuracy: 0.8021 - val_loss: 2.2885 - val_accuracy: 0.2917\n",
      "Epoch 36/50\n",
      "3/3 [==============================] - 4s 1s/step - loss: 0.6529 - accuracy: 0.7292 - val_loss: 2.3362 - val_accuracy: 0.2500\n",
      "Epoch 37/50\n",
      "3/3 [==============================] - 5s 2s/step - loss: 0.6059 - accuracy: 0.8125 - val_loss: 2.2054 - val_accuracy: 0.2500\n",
      "Epoch 38/50\n",
      "3/3 [==============================] - 5s 2s/step - loss: 0.5750 - accuracy: 0.8229 - val_loss: 2.2193 - val_accuracy: 0.2083\n",
      "Epoch 39/50\n",
      "3/3 [==============================] - 5s 2s/step - loss: 0.6566 - accuracy: 0.7188 - val_loss: 2.5503 - val_accuracy: 0.3333\n",
      "Epoch 40/50\n",
      "3/3 [==============================] - 5s 2s/step - loss: 0.6227 - accuracy: 0.7708 - val_loss: 2.1659 - val_accuracy: 0.2500\n",
      "Epoch 41/50\n",
      "3/3 [==============================] - 5s 2s/step - loss: 0.6056 - accuracy: 0.7708 - val_loss: 2.5544 - val_accuracy: 0.2500\n",
      "Epoch 42/50\n",
      "3/3 [==============================] - 5s 2s/step - loss: 0.5728 - accuracy: 0.7812 - val_loss: 2.3348 - val_accuracy: 0.2083\n",
      "Epoch 43/50\n",
      "3/3 [==============================] - 5s 2s/step - loss: 0.6255 - accuracy: 0.7604 - val_loss: 2.3017 - val_accuracy: 0.2083\n",
      "Epoch 44/50\n",
      "3/3 [==============================] - 5s 2s/step - loss: 0.5572 - accuracy: 0.8333 - val_loss: 2.6999 - val_accuracy: 0.3333\n",
      "Epoch 45/50\n",
      "3/3 [==============================] - 4s 1s/step - loss: 0.5301 - accuracy: 0.8229 - val_loss: 2.3439 - val_accuracy: 0.2083\n",
      "Epoch 46/50\n",
      "3/3 [==============================] - 4s 1s/step - loss: 0.5578 - accuracy: 0.8125 - val_loss: 2.4988 - val_accuracy: 0.2500\n",
      "Epoch 47/50\n",
      "3/3 [==============================] - 5s 2s/step - loss: 0.5153 - accuracy: 0.8333 - val_loss: 2.6147 - val_accuracy: 0.3333\n",
      "Epoch 48/50\n",
      "3/3 [==============================] - 5s 2s/step - loss: 0.5149 - accuracy: 0.8438 - val_loss: 2.4768 - val_accuracy: 0.2917\n",
      "Epoch 49/50\n",
      "3/3 [==============================] - 5s 2s/step - loss: 0.5344 - accuracy: 0.8125 - val_loss: 2.4794 - val_accuracy: 0.2500\n",
      "Epoch 50/50\n",
      "3/3 [==============================] - 5s 2s/step - loss: 0.5275 - accuracy: 0.8229 - val_loss: 2.7808 - val_accuracy: 0.2917\n"
     ]
    }
   ],
   "source": [
    "r = model.fit_generator(\n",
    "  training_set,\n",
    "  validation_data=test_set,\n",
    "  epochs=50,\n",
    "  steps_per_epoch=len(training_set),\n",
    "  validation_steps=len(test_set)\n",
    ")"
   ]
  },
  {
   "cell_type": "code",
   "execution_count": null,
   "metadata": {
    "id": "vWmhau9rx_ZI"
   },
   "outputs": [],
   "source": []
  }
 ],
 "metadata": {
  "accelerator": "GPU",
  "colab": {
   "collapsed_sections": [],
   "name": "DIP-Assignment1-Code.ipynb",
   "provenance": []
  },
  "kernelspec": {
   "display_name": "Python 3",
   "language": "python",
   "name": "python3"
  },
  "language_info": {
   "codemirror_mode": {
    "name": "ipython",
    "version": 3
   },
   "file_extension": ".py",
   "mimetype": "text/x-python",
   "name": "python",
   "nbconvert_exporter": "python",
   "pygments_lexer": "ipython3",
   "version": "3.7.4"
  }
 },
 "nbformat": 4,
 "nbformat_minor": 1
}
